{
 "cells":[
  {
   "cell_type":"code",
   "source":[
    "## New york flights in 2013"
   ],
   "execution_count":3,
   "outputs":[
    
   ],
   "metadata":{
    "datalore":{
     "node_id":"9LGZ8iW1ZNeRp947wl9cn9",
     "type":"CODE",
     "hide_input_from_viewers":false,
     "hide_output_from_viewers":false
    }
   }
  },
  {
   "cell_type":"code",
   "source":[
    "# install packages\n",
    "install.packages(c(\"tidyverse\",\"readr\", \"dplyr\"))"
   ],
   "execution_count":null,
   "outputs":[
    {
     "name":"stderr",
     "text":[
      "also installing the dependencies ‘pillar’, ‘broom’, ‘cli’, ‘crayon’, ‘dtplyr’, ‘rlang’, ‘tibble’, ‘xml2’, ‘vroom’, ‘vctrs’\n",
      "\n",
      "\n"
     ],
     "output_type":"stream"
    }
   ],
   "metadata":{
    "datalore":{
     "node_id":"ufvyeGWdnbEFQNjJOOk7hh",
     "type":"CODE",
     "hide_input_from_viewers":false,
     "hide_output_from_viewers":false
    }
   }
  },
  {
   "cell_type":"code",
   "source":[
    "library(\"tidyverse\")\n",
    "library(\"readr\")\n",
    "library(\"dplyr\")\n",
    "\n",
    "flights <- read_csv(\"flights.csv\")\n",
    "airports <- read_csv(\"airports.csv\")\n",
    "View(flights)\n"
   ],
   "execution_count":3,
   "outputs":[
    {
     "name":"stderr",
     "text":[
      "Warning message in system(\"timedatectl\", intern = TRUE):\n",
      "“running command 'timedatectl' had status 1”\n",
      "Warning message:\n",
      "“Failed to locate timezone database”\n",
      "── \u001b[1mAttaching packages\u001b[22m ─────────────────────────────────────── tidyverse 1.3.1 ──\n",
      "\n",
      "\u001b[32m✔\u001b[39m \u001b[34mggplot2\u001b[39m 3.3.5     \u001b[32m✔\u001b[39m \u001b[34mpurrr  \u001b[39m 0.3.4\n",
      "\u001b[32m✔\u001b[39m \u001b[34mtibble \u001b[39m 3.1.5     \u001b[32m✔\u001b[39m \u001b[34mdplyr  \u001b[39m 1.0.7\n",
      "\u001b[32m✔\u001b[39m \u001b[34mtidyr  \u001b[39m 1.1.4     \u001b[32m✔\u001b[39m \u001b[34mstringr\u001b[39m 1.4.0\n",
      "\u001b[32m✔\u001b[39m \u001b[34mreadr  \u001b[39m 2.0.2     \u001b[32m✔\u001b[39m \u001b[34mforcats\u001b[39m 0.5.1\n",
      "\n",
      "── \u001b[1mConflicts\u001b[22m ────────────────────────────────────────── tidyverse_conflicts() ──\n",
      "\u001b[31m✖\u001b[39m \u001b[34mdplyr\u001b[39m::\u001b[32mfilter()\u001b[39m  masks \u001b[34mstats\u001b[39m::filter()\n",
      "\u001b[31m✖\u001b[39m \u001b[34mpurrr\u001b[39m::\u001b[32mflatten()\u001b[39m masks \u001b[34mjsonlite\u001b[39m::flatten()\n",
      "\u001b[31m✖\u001b[39m \u001b[34mdplyr\u001b[39m::\u001b[32mlag()\u001b[39m     masks \u001b[34mstats\u001b[39m::lag()\n",
      "\n",
      "\u001b[1m\u001b[1mRows: \u001b[1m\u001b[22m\u001b[34m\u001b[34m336776\u001b[34m\u001b[39m \u001b[1m\u001b[1mColumns: \u001b[1m\u001b[22m\u001b[34m\u001b[34m19\u001b[34m\u001b[39m\n",
      "\n",
      "\u001b[36m──\u001b[39m \u001b[1m\u001b[1mColumn specification\u001b[1m\u001b[22m \u001b[36m────────────────────────────────────────────────────────\u001b[39m\n",
      "\u001b[1mDelimiter:\u001b[22m \",\"\n",
      "\u001b[31mchr\u001b[39m   (4): carrier, tailnum, origin, dest\n",
      "\u001b[32mdbl\u001b[39m  (14): year, month, day, dep_time, sched_dep_time, dep_delay, arr_time, ...\n",
      "\u001b[34mdttm\u001b[39m  (1): time_hour\n",
      "\n",
      "\n",
      "\u001b[36mℹ\u001b[39m Use \u001b[30m\u001b[47m\u001b[30m\u001b[47m`spec()`\u001b[47m\u001b[30m\u001b[49m\u001b[39m to retrieve the full column specification for this data.\n",
      "\u001b[36mℹ\u001b[39m Specify the column types or set \u001b[30m\u001b[47m\u001b[30m\u001b[47m`show_col_types = FALSE`\u001b[47m\u001b[30m\u001b[49m\u001b[39m to quiet this message.\n",
      "\n",
      "\u001b[1m\u001b[1mRows: \u001b[1m\u001b[22m\u001b[34m\u001b[34m1458\u001b[34m\u001b[39m \u001b[1m\u001b[1mColumns: \u001b[1m\u001b[22m\u001b[34m\u001b[34m8\u001b[34m\u001b[39m\n",
      "\n",
      "\u001b[36m──\u001b[39m \u001b[1m\u001b[1mColumn specification\u001b[1m\u001b[22m \u001b[36m────────────────────────────────────────────────────────\u001b[39m\n",
      "\u001b[1mDelimiter:\u001b[22m \",\"\n",
      "\u001b[31mchr\u001b[39m (4): faa, name, dst, tzone\n",
      "\u001b[32mdbl\u001b[39m (4): lat, lon, alt, tz\n",
      "\n",
      "\n",
      "\u001b[36mℹ\u001b[39m Use \u001b[30m\u001b[47m\u001b[30m\u001b[47m`spec()`\u001b[47m\u001b[30m\u001b[49m\u001b[39m to retrieve the full column specification for this data.\n",
      "\u001b[36mℹ\u001b[39m Specify the column types or set \u001b[30m\u001b[47m\u001b[30m\u001b[47m`show_col_types = FALSE`\u001b[47m\u001b[30m\u001b[49m\u001b[39m to quiet this message.\n",
      "\n"
     ],
     "output_type":"stream"
    },
    {
     "data":{
      "text\/html":[
       "<table class=\"dataframe\">\n",
       "<caption>A spec_tbl_df: 336776 × 19<\/caption>\n",
       "<thead>\n",
       "\t<tr><th scope=col>year<\/th><th scope=col>month<\/th><th scope=col>day<\/th><th scope=col>dep_time<\/th><th scope=col>sched_dep_time<\/th><th scope=col>dep_delay<\/th><th scope=col>arr_time<\/th><th scope=col>sched_arr_time<\/th><th scope=col>arr_delay<\/th><th scope=col>carrier<\/th><th scope=col>flight<\/th><th scope=col>tailnum<\/th><th scope=col>origin<\/th><th scope=col>dest<\/th><th scope=col>air_time<\/th><th scope=col>distance<\/th><th scope=col>hour<\/th><th scope=col>minute<\/th><th scope=col>time_hour<\/th><\/tr>\n",
       "\t<tr><th scope=col>&lt;dbl&gt;<\/th><th scope=col>&lt;dbl&gt;<\/th><th scope=col>&lt;dbl&gt;<\/th><th scope=col>&lt;dbl&gt;<\/th><th scope=col>&lt;dbl&gt;<\/th><th scope=col>&lt;dbl&gt;<\/th><th scope=col>&lt;dbl&gt;<\/th><th scope=col>&lt;dbl&gt;<\/th><th scope=col>&lt;dbl&gt;<\/th><th scope=col>&lt;chr&gt;<\/th><th scope=col>&lt;dbl&gt;<\/th><th scope=col>&lt;chr&gt;<\/th><th scope=col>&lt;chr&gt;<\/th><th scope=col>&lt;chr&gt;<\/th><th scope=col>&lt;dbl&gt;<\/th><th scope=col>&lt;dbl&gt;<\/th><th scope=col>&lt;dbl&gt;<\/th><th scope=col>&lt;dbl&gt;<\/th><th scope=col>&lt;dttm&gt;<\/th><\/tr>\n",
       "<\/thead>\n",
       "<tbody>\n",
       "\t<tr><td>2013<\/td><td>1<\/td><td>1<\/td><td>517<\/td><td>515<\/td><td> 2<\/td><td> 830<\/td><td> 819<\/td><td> 11<\/td><td>UA<\/td><td>1545<\/td><td>N14228<\/td><td>EWR<\/td><td>IAH<\/td><td>227<\/td><td>1400<\/td><td>5<\/td><td>15<\/td><td>2013-01-01 10:00:00<\/td><\/tr>\n",
       "\t<tr><td>2013<\/td><td>1<\/td><td>1<\/td><td>533<\/td><td>529<\/td><td> 4<\/td><td> 850<\/td><td> 830<\/td><td> 20<\/td><td>UA<\/td><td>1714<\/td><td>N24211<\/td><td>LGA<\/td><td>IAH<\/td><td>227<\/td><td>1416<\/td><td>5<\/td><td>29<\/td><td>2013-01-01 10:00:00<\/td><\/tr>\n",
       "\t<tr><td>2013<\/td><td>1<\/td><td>1<\/td><td>542<\/td><td>540<\/td><td> 2<\/td><td> 923<\/td><td> 850<\/td><td> 33<\/td><td>AA<\/td><td>1141<\/td><td>N619AA<\/td><td>JFK<\/td><td>MIA<\/td><td>160<\/td><td>1089<\/td><td>5<\/td><td>40<\/td><td>2013-01-01 10:00:00<\/td><\/tr>\n",
       "\t<tr><td>2013<\/td><td>1<\/td><td>1<\/td><td>544<\/td><td>545<\/td><td>-1<\/td><td>1004<\/td><td>1022<\/td><td>-18<\/td><td>B6<\/td><td> 725<\/td><td>N804JB<\/td><td>JFK<\/td><td>BQN<\/td><td>183<\/td><td>1576<\/td><td>5<\/td><td>45<\/td><td>2013-01-01 10:00:00<\/td><\/tr>\n",
       "\t<tr><td>2013<\/td><td>1<\/td><td>1<\/td><td>554<\/td><td>600<\/td><td>-6<\/td><td> 812<\/td><td> 837<\/td><td>-25<\/td><td>DL<\/td><td> 461<\/td><td>N668DN<\/td><td>LGA<\/td><td>ATL<\/td><td>116<\/td><td> 762<\/td><td>6<\/td><td> 0<\/td><td>2013-01-01 11:00:00<\/td><\/tr>\n",
       "\t<tr><td>2013<\/td><td>1<\/td><td>1<\/td><td>554<\/td><td>558<\/td><td>-4<\/td><td> 740<\/td><td> 728<\/td><td> 12<\/td><td>UA<\/td><td>1696<\/td><td>N39463<\/td><td>EWR<\/td><td>ORD<\/td><td>150<\/td><td> 719<\/td><td>5<\/td><td>58<\/td><td>2013-01-01 10:00:00<\/td><\/tr>\n",
       "\t<tr><td>2013<\/td><td>1<\/td><td>1<\/td><td>555<\/td><td>600<\/td><td>-5<\/td><td> 913<\/td><td> 854<\/td><td> 19<\/td><td>B6<\/td><td> 507<\/td><td>N516JB<\/td><td>EWR<\/td><td>FLL<\/td><td>158<\/td><td>1065<\/td><td>6<\/td><td> 0<\/td><td>2013-01-01 11:00:00<\/td><\/tr>\n",
       "\t<tr><td>2013<\/td><td>1<\/td><td>1<\/td><td>557<\/td><td>600<\/td><td>-3<\/td><td> 709<\/td><td> 723<\/td><td>-14<\/td><td>EV<\/td><td>5708<\/td><td>N829AS<\/td><td>LGA<\/td><td>IAD<\/td><td> 53<\/td><td> 229<\/td><td>6<\/td><td> 0<\/td><td>2013-01-01 11:00:00<\/td><\/tr>\n",
       "\t<tr><td>2013<\/td><td>1<\/td><td>1<\/td><td>557<\/td><td>600<\/td><td>-3<\/td><td> 838<\/td><td> 846<\/td><td> -8<\/td><td>B6<\/td><td>  79<\/td><td>N593JB<\/td><td>JFK<\/td><td>MCO<\/td><td>140<\/td><td> 944<\/td><td>6<\/td><td> 0<\/td><td>2013-01-01 11:00:00<\/td><\/tr>\n",
       "\t<tr><td>2013<\/td><td>1<\/td><td>1<\/td><td>558<\/td><td>600<\/td><td>-2<\/td><td> 753<\/td><td> 745<\/td><td>  8<\/td><td>AA<\/td><td> 301<\/td><td>N3ALAA<\/td><td>LGA<\/td><td>ORD<\/td><td>138<\/td><td> 733<\/td><td>6<\/td><td> 0<\/td><td>2013-01-01 11:00:00<\/td><\/tr>\n",
       "\t<tr><td>2013<\/td><td>1<\/td><td>1<\/td><td>558<\/td><td>600<\/td><td>-2<\/td><td> 849<\/td><td> 851<\/td><td> -2<\/td><td>B6<\/td><td>  49<\/td><td>N793JB<\/td><td>JFK<\/td><td>PBI<\/td><td>149<\/td><td>1028<\/td><td>6<\/td><td> 0<\/td><td>2013-01-01 11:00:00<\/td><\/tr>\n",
       "\t<tr><td>2013<\/td><td>1<\/td><td>1<\/td><td>558<\/td><td>600<\/td><td>-2<\/td><td> 853<\/td><td> 856<\/td><td> -3<\/td><td>B6<\/td><td>  71<\/td><td>N657JB<\/td><td>JFK<\/td><td>TPA<\/td><td>158<\/td><td>1005<\/td><td>6<\/td><td> 0<\/td><td>2013-01-01 11:00:00<\/td><\/tr>\n",
       "\t<tr><td>2013<\/td><td>1<\/td><td>1<\/td><td>558<\/td><td>600<\/td><td>-2<\/td><td> 924<\/td><td> 917<\/td><td>  7<\/td><td>UA<\/td><td> 194<\/td><td>N29129<\/td><td>JFK<\/td><td>LAX<\/td><td>345<\/td><td>2475<\/td><td>6<\/td><td> 0<\/td><td>2013-01-01 11:00:00<\/td><\/tr>\n",
       "\t<tr><td>2013<\/td><td>1<\/td><td>1<\/td><td>558<\/td><td>600<\/td><td>-2<\/td><td> 923<\/td><td> 937<\/td><td>-14<\/td><td>UA<\/td><td>1124<\/td><td>N53441<\/td><td>EWR<\/td><td>SFO<\/td><td>361<\/td><td>2565<\/td><td>6<\/td><td> 0<\/td><td>2013-01-01 11:00:00<\/td><\/tr>\n",
       "\t<tr><td>2013<\/td><td>1<\/td><td>1<\/td><td>559<\/td><td>600<\/td><td>-1<\/td><td> 941<\/td><td> 910<\/td><td> 31<\/td><td>AA<\/td><td> 707<\/td><td>N3DUAA<\/td><td>LGA<\/td><td>DFW<\/td><td>257<\/td><td>1389<\/td><td>6<\/td><td> 0<\/td><td>2013-01-01 11:00:00<\/td><\/tr>\n",
       "\t<tr><td>2013<\/td><td>1<\/td><td>1<\/td><td>559<\/td><td>559<\/td><td> 0<\/td><td> 702<\/td><td> 706<\/td><td> -4<\/td><td>B6<\/td><td>1806<\/td><td>N708JB<\/td><td>JFK<\/td><td>BOS<\/td><td> 44<\/td><td> 187<\/td><td>5<\/td><td>59<\/td><td>2013-01-01 10:00:00<\/td><\/tr>\n",
       "\t<tr><td>2013<\/td><td>1<\/td><td>1<\/td><td>559<\/td><td>600<\/td><td>-1<\/td><td> 854<\/td><td> 902<\/td><td> -8<\/td><td>UA<\/td><td>1187<\/td><td>N76515<\/td><td>EWR<\/td><td>LAS<\/td><td>337<\/td><td>2227<\/td><td>6<\/td><td> 0<\/td><td>2013-01-01 11:00:00<\/td><\/tr>\n",
       "\t<tr><td>2013<\/td><td>1<\/td><td>1<\/td><td>600<\/td><td>600<\/td><td> 0<\/td><td> 851<\/td><td> 858<\/td><td> -7<\/td><td>B6<\/td><td> 371<\/td><td>N595JB<\/td><td>LGA<\/td><td>FLL<\/td><td>152<\/td><td>1076<\/td><td>6<\/td><td> 0<\/td><td>2013-01-01 11:00:00<\/td><\/tr>\n",
       "\t<tr><td>2013<\/td><td>1<\/td><td>1<\/td><td>600<\/td><td>600<\/td><td> 0<\/td><td> 837<\/td><td> 825<\/td><td> 12<\/td><td>MQ<\/td><td>4650<\/td><td>N542MQ<\/td><td>LGA<\/td><td>ATL<\/td><td>134<\/td><td> 762<\/td><td>6<\/td><td> 0<\/td><td>2013-01-01 11:00:00<\/td><\/tr>\n",
       "\t<tr><td>2013<\/td><td>1<\/td><td>1<\/td><td>601<\/td><td>600<\/td><td> 1<\/td><td> 844<\/td><td> 850<\/td><td> -6<\/td><td>B6<\/td><td> 343<\/td><td>N644JB<\/td><td>EWR<\/td><td>PBI<\/td><td>147<\/td><td>1023<\/td><td>6<\/td><td> 0<\/td><td>2013-01-01 11:00:00<\/td><\/tr>\n",
       "\t<tr><td>2013<\/td><td>1<\/td><td>1<\/td><td>602<\/td><td>610<\/td><td>-8<\/td><td> 812<\/td><td> 820<\/td><td> -8<\/td><td>DL<\/td><td>1919<\/td><td>N971DL<\/td><td>LGA<\/td><td>MSP<\/td><td>170<\/td><td>1020<\/td><td>6<\/td><td>10<\/td><td>2013-01-01 11:00:00<\/td><\/tr>\n",
       "\t<tr><td>2013<\/td><td>1<\/td><td>1<\/td><td>602<\/td><td>605<\/td><td>-3<\/td><td> 821<\/td><td> 805<\/td><td> 16<\/td><td>MQ<\/td><td>4401<\/td><td>N730MQ<\/td><td>LGA<\/td><td>DTW<\/td><td>105<\/td><td> 502<\/td><td>6<\/td><td> 5<\/td><td>2013-01-01 11:00:00<\/td><\/tr>\n",
       "\t<tr><td>2013<\/td><td>1<\/td><td>1<\/td><td>606<\/td><td>610<\/td><td>-4<\/td><td> 858<\/td><td> 910<\/td><td>-12<\/td><td>AA<\/td><td>1895<\/td><td>N633AA<\/td><td>EWR<\/td><td>MIA<\/td><td>152<\/td><td>1085<\/td><td>6<\/td><td>10<\/td><td>2013-01-01 11:00:00<\/td><\/tr>\n",
       "\t<tr><td>2013<\/td><td>1<\/td><td>1<\/td><td>606<\/td><td>610<\/td><td>-4<\/td><td> 837<\/td><td> 845<\/td><td> -8<\/td><td>DL<\/td><td>1743<\/td><td>N3739P<\/td><td>JFK<\/td><td>ATL<\/td><td>128<\/td><td> 760<\/td><td>6<\/td><td>10<\/td><td>2013-01-01 11:00:00<\/td><\/tr>\n",
       "\t<tr><td>2013<\/td><td>1<\/td><td>1<\/td><td>607<\/td><td>607<\/td><td> 0<\/td><td> 858<\/td><td> 915<\/td><td>-17<\/td><td>UA<\/td><td>1077<\/td><td>N53442<\/td><td>EWR<\/td><td>MIA<\/td><td>157<\/td><td>1085<\/td><td>6<\/td><td> 7<\/td><td>2013-01-01 11:00:00<\/td><\/tr>\n",
       "\t<tr><td>2013<\/td><td>1<\/td><td>1<\/td><td>608<\/td><td>600<\/td><td> 8<\/td><td> 807<\/td><td> 735<\/td><td> 32<\/td><td>MQ<\/td><td>3768<\/td><td>N9EAMQ<\/td><td>EWR<\/td><td>ORD<\/td><td>139<\/td><td> 719<\/td><td>6<\/td><td> 0<\/td><td>2013-01-01 11:00:00<\/td><\/tr>\n",
       "\t<tr><td>2013<\/td><td>1<\/td><td>1<\/td><td>611<\/td><td>600<\/td><td>11<\/td><td> 945<\/td><td> 931<\/td><td> 14<\/td><td>UA<\/td><td> 303<\/td><td>N532UA<\/td><td>JFK<\/td><td>SFO<\/td><td>366<\/td><td>2586<\/td><td>6<\/td><td> 0<\/td><td>2013-01-01 11:00:00<\/td><\/tr>\n",
       "\t<tr><td>2013<\/td><td>1<\/td><td>1<\/td><td>613<\/td><td>610<\/td><td> 3<\/td><td> 925<\/td><td> 921<\/td><td>  4<\/td><td>B6<\/td><td> 135<\/td><td>N635JB<\/td><td>JFK<\/td><td>RSW<\/td><td>175<\/td><td>1074<\/td><td>6<\/td><td>10<\/td><td>2013-01-01 11:00:00<\/td><\/tr>\n",
       "\t<tr><td>2013<\/td><td>1<\/td><td>1<\/td><td>615<\/td><td>615<\/td><td> 0<\/td><td>1039<\/td><td>1100<\/td><td>-21<\/td><td>B6<\/td><td> 709<\/td><td>N794JB<\/td><td>JFK<\/td><td>SJU<\/td><td>182<\/td><td>1598<\/td><td>6<\/td><td>15<\/td><td>2013-01-01 11:00:00<\/td><\/tr>\n",
       "\t<tr><td>2013<\/td><td>1<\/td><td>1<\/td><td>615<\/td><td>615<\/td><td> 0<\/td><td> 833<\/td><td> 842<\/td><td> -9<\/td><td>DL<\/td><td> 575<\/td><td>N326NB<\/td><td>EWR<\/td><td>ATL<\/td><td>120<\/td><td> 746<\/td><td>6<\/td><td>15<\/td><td>2013-01-01 11:00:00<\/td><\/tr>\n",
       "\t<tr><td>⋮<\/td><td>⋮<\/td><td>⋮<\/td><td>⋮<\/td><td>⋮<\/td><td>⋮<\/td><td>⋮<\/td><td>⋮<\/td><td>⋮<\/td><td>⋮<\/td><td>⋮<\/td><td>⋮<\/td><td>⋮<\/td><td>⋮<\/td><td>⋮<\/td><td>⋮<\/td><td>⋮<\/td><td>⋮<\/td><td>⋮<\/td><\/tr>\n",
       "\t<tr><td>2013<\/td><td>9<\/td><td>30<\/td><td>2123<\/td><td>2125<\/td><td> -2<\/td><td>2223<\/td><td>2247<\/td><td>-24<\/td><td>EV<\/td><td>5489<\/td><td>N712EV<\/td><td>LGA<\/td><td>CHO<\/td><td> 45<\/td><td> 305<\/td><td>21<\/td><td>25<\/td><td>2013-10-01 01:00:00<\/td><\/tr>\n",
       "\t<tr><td>2013<\/td><td>9<\/td><td>30<\/td><td>2127<\/td><td>2129<\/td><td> -2<\/td><td>2314<\/td><td>2323<\/td><td> -9<\/td><td>EV<\/td><td>3833<\/td><td>N16546<\/td><td>EWR<\/td><td>CLT<\/td><td> 72<\/td><td> 529<\/td><td>21<\/td><td>29<\/td><td>2013-10-01 01:00:00<\/td><\/tr>\n",
       "\t<tr><td>2013<\/td><td>9<\/td><td>30<\/td><td>2128<\/td><td>2130<\/td><td> -2<\/td><td>2328<\/td><td>2359<\/td><td>-31<\/td><td>B6<\/td><td>  97<\/td><td>N807JB<\/td><td>JFK<\/td><td>DEN<\/td><td>213<\/td><td>1626<\/td><td>21<\/td><td>30<\/td><td>2013-10-01 01:00:00<\/td><\/tr>\n",
       "\t<tr><td>2013<\/td><td>9<\/td><td>30<\/td><td>2129<\/td><td>2059<\/td><td> 30<\/td><td>2230<\/td><td>2232<\/td><td> -2<\/td><td>EV<\/td><td>5048<\/td><td>N751EV<\/td><td>LGA<\/td><td>RIC<\/td><td> 45<\/td><td> 292<\/td><td>20<\/td><td>59<\/td><td>2013-10-01 00:00:00<\/td><\/tr>\n",
       "\t<tr><td>2013<\/td><td>9<\/td><td>30<\/td><td>2131<\/td><td>2140<\/td><td> -9<\/td><td>2225<\/td><td>2255<\/td><td>-30<\/td><td>MQ<\/td><td>3621<\/td><td>N807MQ<\/td><td>JFK<\/td><td>DCA<\/td><td> 36<\/td><td> 213<\/td><td>21<\/td><td>40<\/td><td>2013-10-01 01:00:00<\/td><\/tr>\n",
       "\t<tr><td>2013<\/td><td>9<\/td><td>30<\/td><td>2140<\/td><td>2140<\/td><td>  0<\/td><td>  10<\/td><td>  40<\/td><td>-30<\/td><td>AA<\/td><td> 185<\/td><td>N335AA<\/td><td>JFK<\/td><td>LAX<\/td><td>298<\/td><td>2475<\/td><td>21<\/td><td>40<\/td><td>2013-10-01 01:00:00<\/td><\/tr>\n",
       "\t<tr><td>2013<\/td><td>9<\/td><td>30<\/td><td>2142<\/td><td>2129<\/td><td> 13<\/td><td>2250<\/td><td>2239<\/td><td> 11<\/td><td>EV<\/td><td>4509<\/td><td>N12957<\/td><td>EWR<\/td><td>PWM<\/td><td> 47<\/td><td> 284<\/td><td>21<\/td><td>29<\/td><td>2013-10-01 01:00:00<\/td><\/tr>\n",
       "\t<tr><td>2013<\/td><td>9<\/td><td>30<\/td><td>2145<\/td><td>2145<\/td><td>  0<\/td><td> 115<\/td><td> 140<\/td><td>-25<\/td><td>B6<\/td><td>1103<\/td><td>N633JB<\/td><td>JFK<\/td><td>SJU<\/td><td>192<\/td><td>1598<\/td><td>21<\/td><td>45<\/td><td>2013-10-01 01:00:00<\/td><\/tr>\n",
       "\t<tr><td>2013<\/td><td>9<\/td><td>30<\/td><td>2147<\/td><td>2137<\/td><td> 10<\/td><td>  30<\/td><td>  27<\/td><td>  3<\/td><td>B6<\/td><td>1371<\/td><td>N627JB<\/td><td>LGA<\/td><td>FLL<\/td><td>139<\/td><td>1076<\/td><td>21<\/td><td>37<\/td><td>2013-10-01 01:00:00<\/td><\/tr>\n",
       "\t<tr><td>2013<\/td><td>9<\/td><td>30<\/td><td>2149<\/td><td>2156<\/td><td> -7<\/td><td>2245<\/td><td>2308<\/td><td>-23<\/td><td>UA<\/td><td> 523<\/td><td>N813UA<\/td><td>EWR<\/td><td>BOS<\/td><td> 37<\/td><td> 200<\/td><td>21<\/td><td>56<\/td><td>2013-10-01 01:00:00<\/td><\/tr>\n",
       "\t<tr><td>2013<\/td><td>9<\/td><td>30<\/td><td>2150<\/td><td>2159<\/td><td> -9<\/td><td>2250<\/td><td>2306<\/td><td>-16<\/td><td>EV<\/td><td>3842<\/td><td>N10575<\/td><td>EWR<\/td><td>MHT<\/td><td> 39<\/td><td> 209<\/td><td>21<\/td><td>59<\/td><td>2013-10-01 01:00:00<\/td><\/tr>\n",
       "\t<tr><td>2013<\/td><td>9<\/td><td>30<\/td><td>2159<\/td><td>1845<\/td><td>194<\/td><td>2344<\/td><td>2030<\/td><td>194<\/td><td>9E<\/td><td>3320<\/td><td>N906XJ<\/td><td>JFK<\/td><td>BUF<\/td><td> 50<\/td><td> 301<\/td><td>18<\/td><td>45<\/td><td>2013-09-30 22:00:00<\/td><\/tr>\n",
       "\t<tr><td>2013<\/td><td>9<\/td><td>30<\/td><td>2203<\/td><td>2205<\/td><td> -2<\/td><td>2339<\/td><td>2331<\/td><td>  8<\/td><td>EV<\/td><td>5311<\/td><td>N722EV<\/td><td>LGA<\/td><td>BGR<\/td><td> 61<\/td><td> 378<\/td><td>22<\/td><td> 5<\/td><td>2013-10-01 02:00:00<\/td><\/tr>\n",
       "\t<tr><td>2013<\/td><td>9<\/td><td>30<\/td><td>2207<\/td><td>2140<\/td><td> 27<\/td><td>2257<\/td><td>2250<\/td><td>  7<\/td><td>MQ<\/td><td>3660<\/td><td>N532MQ<\/td><td>LGA<\/td><td>BNA<\/td><td> 97<\/td><td> 764<\/td><td>21<\/td><td>40<\/td><td>2013-10-01 01:00:00<\/td><\/tr>\n",
       "\t<tr><td>2013<\/td><td>9<\/td><td>30<\/td><td>2211<\/td><td>2059<\/td><td> 72<\/td><td>2339<\/td><td>2242<\/td><td> 57<\/td><td>EV<\/td><td>4672<\/td><td>N12145<\/td><td>EWR<\/td><td>STL<\/td><td>120<\/td><td> 872<\/td><td>20<\/td><td>59<\/td><td>2013-10-01 00:00:00<\/td><\/tr>\n",
       "\t<tr><td>2013<\/td><td>9<\/td><td>30<\/td><td>2231<\/td><td>2245<\/td><td>-14<\/td><td>2335<\/td><td>2356<\/td><td>-21<\/td><td>B6<\/td><td> 108<\/td><td>N193JB<\/td><td>JFK<\/td><td>PWM<\/td><td> 48<\/td><td> 273<\/td><td>22<\/td><td>45<\/td><td>2013-10-01 02:00:00<\/td><\/tr>\n",
       "\t<tr><td>2013<\/td><td>9<\/td><td>30<\/td><td>2233<\/td><td>2113<\/td><td> 80<\/td><td> 112<\/td><td>  30<\/td><td> 42<\/td><td>UA<\/td><td> 471<\/td><td>N578UA<\/td><td>EWR<\/td><td>SFO<\/td><td>318<\/td><td>2565<\/td><td>21<\/td><td>13<\/td><td>2013-10-01 01:00:00<\/td><\/tr>\n",
       "\t<tr><td>2013<\/td><td>9<\/td><td>30<\/td><td>2235<\/td><td>2001<\/td><td>154<\/td><td>  59<\/td><td>2249<\/td><td>130<\/td><td>B6<\/td><td>1083<\/td><td>N804JB<\/td><td>JFK<\/td><td>MCO<\/td><td>123<\/td><td> 944<\/td><td>20<\/td><td> 1<\/td><td>2013-10-01 00:00:00<\/td><\/tr>\n",
       "\t<tr><td>2013<\/td><td>9<\/td><td>30<\/td><td>2237<\/td><td>2245<\/td><td> -8<\/td><td>2345<\/td><td>2353<\/td><td> -8<\/td><td>B6<\/td><td> 234<\/td><td>N318JB<\/td><td>JFK<\/td><td>BTV<\/td><td> 43<\/td><td> 266<\/td><td>22<\/td><td>45<\/td><td>2013-10-01 02:00:00<\/td><\/tr>\n",
       "\t<tr><td>2013<\/td><td>9<\/td><td>30<\/td><td>2240<\/td><td>2245<\/td><td> -5<\/td><td>2334<\/td><td>2351<\/td><td>-17<\/td><td>B6<\/td><td>1816<\/td><td>N354JB<\/td><td>JFK<\/td><td>SYR<\/td><td> 41<\/td><td> 209<\/td><td>22<\/td><td>45<\/td><td>2013-10-01 02:00:00<\/td><\/tr>\n",
       "\t<tr><td>2013<\/td><td>9<\/td><td>30<\/td><td>2240<\/td><td>2250<\/td><td>-10<\/td><td>2347<\/td><td>   7<\/td><td>-20<\/td><td>B6<\/td><td>2002<\/td><td>N281JB<\/td><td>JFK<\/td><td>BUF<\/td><td> 52<\/td><td> 301<\/td><td>22<\/td><td>50<\/td><td>2013-10-01 02:00:00<\/td><\/tr>\n",
       "\t<tr><td>2013<\/td><td>9<\/td><td>30<\/td><td>2241<\/td><td>2246<\/td><td> -5<\/td><td>2345<\/td><td>   1<\/td><td>-16<\/td><td>B6<\/td><td> 486<\/td><td>N346JB<\/td><td>JFK<\/td><td>ROC<\/td><td> 47<\/td><td> 264<\/td><td>22<\/td><td>46<\/td><td>2013-10-01 02:00:00<\/td><\/tr>\n",
       "\t<tr><td>2013<\/td><td>9<\/td><td>30<\/td><td>2307<\/td><td>2255<\/td><td> 12<\/td><td>2359<\/td><td>2358<\/td><td>  1<\/td><td>B6<\/td><td> 718<\/td><td>N565JB<\/td><td>JFK<\/td><td>BOS<\/td><td> 33<\/td><td> 187<\/td><td>22<\/td><td>55<\/td><td>2013-10-01 02:00:00<\/td><\/tr>\n",
       "\t<tr><td>2013<\/td><td>9<\/td><td>30<\/td><td>2349<\/td><td>2359<\/td><td>-10<\/td><td> 325<\/td><td> 350<\/td><td>-25<\/td><td>B6<\/td><td> 745<\/td><td>N516JB<\/td><td>JFK<\/td><td>PSE<\/td><td>196<\/td><td>1617<\/td><td>23<\/td><td>59<\/td><td>2013-10-01 03:00:00<\/td><\/tr>\n",
       "\t<tr><td>2013<\/td><td>9<\/td><td>30<\/td><td>  NA<\/td><td>1842<\/td><td> NA<\/td><td>  NA<\/td><td>2019<\/td><td> NA<\/td><td>EV<\/td><td>5274<\/td><td>N740EV<\/td><td>LGA<\/td><td>BNA<\/td><td> NA<\/td><td> 764<\/td><td>18<\/td><td>42<\/td><td>2013-09-30 22:00:00<\/td><\/tr>\n",
       "\t<tr><td>2013<\/td><td>9<\/td><td>30<\/td><td>  NA<\/td><td>1455<\/td><td> NA<\/td><td>  NA<\/td><td>1634<\/td><td> NA<\/td><td>9E<\/td><td>3393<\/td><td>NA    <\/td><td>JFK<\/td><td>DCA<\/td><td> NA<\/td><td> 213<\/td><td>14<\/td><td>55<\/td><td>2013-09-30 18:00:00<\/td><\/tr>\n",
       "\t<tr><td>2013<\/td><td>9<\/td><td>30<\/td><td>  NA<\/td><td>2200<\/td><td> NA<\/td><td>  NA<\/td><td>2312<\/td><td> NA<\/td><td>9E<\/td><td>3525<\/td><td>NA    <\/td><td>LGA<\/td><td>SYR<\/td><td> NA<\/td><td> 198<\/td><td>22<\/td><td> 0<\/td><td>2013-10-01 02:00:00<\/td><\/tr>\n",
       "\t<tr><td>2013<\/td><td>9<\/td><td>30<\/td><td>  NA<\/td><td>1210<\/td><td> NA<\/td><td>  NA<\/td><td>1330<\/td><td> NA<\/td><td>MQ<\/td><td>3461<\/td><td>N535MQ<\/td><td>LGA<\/td><td>BNA<\/td><td> NA<\/td><td> 764<\/td><td>12<\/td><td>10<\/td><td>2013-09-30 16:00:00<\/td><\/tr>\n",
       "\t<tr><td>2013<\/td><td>9<\/td><td>30<\/td><td>  NA<\/td><td>1159<\/td><td> NA<\/td><td>  NA<\/td><td>1344<\/td><td> NA<\/td><td>MQ<\/td><td>3572<\/td><td>N511MQ<\/td><td>LGA<\/td><td>CLE<\/td><td> NA<\/td><td> 419<\/td><td>11<\/td><td>59<\/td><td>2013-09-30 15:00:00<\/td><\/tr>\n",
       "\t<tr><td>2013<\/td><td>9<\/td><td>30<\/td><td>  NA<\/td><td> 840<\/td><td> NA<\/td><td>  NA<\/td><td>1020<\/td><td> NA<\/td><td>MQ<\/td><td>3531<\/td><td>N839MQ<\/td><td>LGA<\/td><td>RDU<\/td><td> NA<\/td><td> 431<\/td><td> 8<\/td><td>40<\/td><td>2013-09-30 12:00:00<\/td><\/tr>\n",
       "<\/tbody>\n",
       "<\/table>\n"
      ]
     },
     "metadata":{
      
     },
     "output_type":"display_data"
    }
   ],
   "metadata":{
    "datalore":{
     "node_id":"MHS0Etxis1wpOCpbs8QukP",
     "type":"CODE",
     "hide_input_from_viewers":false,
     "hide_output_from_viewers":false
    }
   }
  },
  {
   "cell_type":"code",
   "source":[
    "# Question 1 Find the average delay time on the period of the Chistmas Festival (18-25 December)\n",
    "flights %>%\n",
    "    filter(month ==12 ,between(day,18,25)) %>%\n",
    "    count(dep_delay) %>%\n",
    "    summarise(average_delay_time=mean(n)) "
   ],
   "execution_count":22,
   "outputs":[
    {
     "data":{
      "text\/html":[
       "<table class=\"dataframe\">\n",
       "<caption>A tibble: 1 × 1<\/caption>\n",
       "<thead>\n",
       "\t<tr><th scope=col>average_delay_time<\/th><\/tr>\n",
       "\t<tr><th scope=col>&lt;dbl&gt;<\/th><\/tr>\n",
       "<\/thead>\n",
       "<tbody>\n",
       "\t<tr><td>29.02049<\/td><\/tr>\n",
       "<\/tbody>\n",
       "<\/table>\n"
      ]
     },
     "metadata":{
      
     },
     "output_type":"display_data"
    }
   ],
   "metadata":{
    "datalore":{
     "node_id":"MHKaGnNJAddMSDws5UP0Az",
     "type":"CODE",
     "hide_input_from_viewers":false,
     "hide_output_from_viewers":false
    }
   }
  },
  {
   "cell_type":"code",
   "source":[
    "# Question 2 Find the 5 top months that have the most amount flights in 2013\n",
    "flights %>%\n",
    "    count(month) %>%\n",
    "    arrange(desc(n)) %>%\n",
    "    rename(amountFlights = n) %>%\n",
    "    head(5)"
   ],
   "execution_count":31,
   "outputs":[
    {
     "data":{
      "text\/html":[
       "<table class=\"dataframe\">\n",
       "<caption>A tibble: 5 × 2<\/caption>\n",
       "<thead>\n",
       "\t<tr><th scope=col>month<\/th><th scope=col>amountFlights<\/th><\/tr>\n",
       "\t<tr><th scope=col>&lt;dbl&gt;<\/th><th scope=col>&lt;int&gt;<\/th><\/tr>\n",
       "<\/thead>\n",
       "<tbody>\n",
       "\t<tr><td> 7<\/td><td>29425<\/td><\/tr>\n",
       "\t<tr><td> 8<\/td><td>29327<\/td><\/tr>\n",
       "\t<tr><td>10<\/td><td>28889<\/td><\/tr>\n",
       "\t<tr><td> 3<\/td><td>28834<\/td><\/tr>\n",
       "\t<tr><td> 5<\/td><td>28796<\/td><\/tr>\n",
       "<\/tbody>\n",
       "<\/table>\n"
      ]
     },
     "metadata":{
      
     },
     "output_type":"display_data"
    }
   ],
   "metadata":{
    "datalore":{
     "node_id":"DE2ApyDbommRCTOBRindUq",
     "type":"CODE",
     "hide_input_from_viewers":false,
     "hide_output_from_viewers":false
    }
   }
  },
  {
   "cell_type":"code",
   "source":[
    "# Question 3 Find airport that is the most destination from the nycflights.\n",
    "flights %>%\n",
    "    count(dest) %>%\n",
    "    rename(amountFlights = n, aconym = dest) %>%\n",
    "    left_join(airports, by=(c(\"aconym\"=\"faa\"))) %>%\n",
    "    select(name, aconym, amountFlights) %>%\n",
    "    head(1)"
   ],
   "execution_count":51,
   "outputs":[
    {
     "data":{
      "text\/html":[
       "<table class=\"dataframe\">\n",
       "<caption>A tibble: 1 × 3<\/caption>\n",
       "<thead>\n",
       "\t<tr><th scope=col>name<\/th><th scope=col>aconym<\/th><th scope=col>amountFlights<\/th><\/tr>\n",
       "\t<tr><th scope=col>&lt;chr&gt;<\/th><th scope=col>&lt;chr&gt;<\/th><th scope=col>&lt;int&gt;<\/th><\/tr>\n",
       "<\/thead>\n",
       "<tbody>\n",
       "\t<tr><td>Albuquerque International Sunport<\/td><td>ABQ<\/td><td>254<\/td><\/tr>\n",
       "<\/tbody>\n",
       "<\/table>\n"
      ]
     },
     "metadata":{
      
     },
     "output_type":"display_data"
    }
   ],
   "metadata":{
    "datalore":{
     "node_id":"JHeJLQ618qXRns8B6Wk01v",
     "type":"CODE",
     "hide_input_from_viewers":false,
     "hide_output_from_viewers":false
    }
   }
  },
  {
   "cell_type":"code",
   "source":[
    "# Question 4 Find the JFK flight to the MIA that the most spend the time give me for top 5 of them\n",
    "\n",
    "flights %>%\n",
    "    filter(origin==\"JFK\", dest==\"MIA\") %>%\n",
    "    arrange(desc(hour), desc(minute)) %>%\n",
    "    head(5) %>%\n",
    "    select(year, month, day, carrier, origin, dest)"
   ],
   "execution_count":8,
   "outputs":[
    {
     "data":{
      "text\/html":[
       "<table class=\"dataframe\">\n",
       "<caption>A tibble: 5 × 6<\/caption>\n",
       "<thead>\n",
       "\t<tr><th scope=col>year<\/th><th scope=col>month<\/th><th scope=col>day<\/th><th scope=col>carrier<\/th><th scope=col>origin<\/th><th scope=col>dest<\/th><\/tr>\n",
       "\t<tr><th scope=col>&lt;dbl&gt;<\/th><th scope=col>&lt;dbl&gt;<\/th><th scope=col>&lt;dbl&gt;<\/th><th scope=col>&lt;chr&gt;<\/th><th scope=col>&lt;chr&gt;<\/th><th scope=col>&lt;chr&gt;<\/th><\/tr>\n",
       "<\/thead>\n",
       "<tbody>\n",
       "\t<tr><td>2013<\/td><td>4<\/td><td>13<\/td><td>DL<\/td><td>JFK<\/td><td>MIA<\/td><\/tr>\n",
       "\t<tr><td>2013<\/td><td>4<\/td><td>20<\/td><td>DL<\/td><td>JFK<\/td><td>MIA<\/td><\/tr>\n",
       "\t<tr><td>2013<\/td><td>4<\/td><td>27<\/td><td>DL<\/td><td>JFK<\/td><td>MIA<\/td><\/tr>\n",
       "\t<tr><td>2013<\/td><td>1<\/td><td> 1<\/td><td>DL<\/td><td>JFK<\/td><td>MIA<\/td><\/tr>\n",
       "\t<tr><td>2013<\/td><td>1<\/td><td> 2<\/td><td>DL<\/td><td>JFK<\/td><td>MIA<\/td><\/tr>\n",
       "<\/tbody>\n",
       "<\/table>\n"
      ]
     },
     "metadata":{
      
     },
     "output_type":"display_data"
    }
   ],
   "metadata":{
    "datalore":{
     "node_id":"WR8x0b9fP8aDwKIWO2EVDD",
     "type":"CODE",
     "hide_input_from_viewers":false,
     "hide_output_from_viewers":false
    }
   }
  },
  {
   "cell_type":"code",
   "source":[
    "# Question 5 Find the trips that the distance is not over 1000\n",
    "flights %>%\n",
    "    filter( distance < 1000 ) %>%\n",
    "    select(origin, dest, distance)"
   ],
   "execution_count":10,
   "outputs":[
    {
     "data":{
      "text\/html":[
       "<table class=\"dataframe\">\n",
       "<caption>A tibble: 189671 × 3<\/caption>\n",
       "<thead>\n",
       "\t<tr><th scope=col>origin<\/th><th scope=col>dest<\/th><th scope=col>distance<\/th><\/tr>\n",
       "\t<tr><th scope=col>&lt;chr&gt;<\/th><th scope=col>&lt;chr&gt;<\/th><th scope=col>&lt;dbl&gt;<\/th><\/tr>\n",
       "<\/thead>\n",
       "<tbody>\n",
       "\t<tr><td>LGA<\/td><td>ATL<\/td><td>762<\/td><\/tr>\n",
       "\t<tr><td>EWR<\/td><td>ORD<\/td><td>719<\/td><\/tr>\n",
       "\t<tr><td>LGA<\/td><td>IAD<\/td><td>229<\/td><\/tr>\n",
       "\t<tr><td>JFK<\/td><td>MCO<\/td><td>944<\/td><\/tr>\n",
       "\t<tr><td>LGA<\/td><td>ORD<\/td><td>733<\/td><\/tr>\n",
       "\t<tr><td>JFK<\/td><td>BOS<\/td><td>187<\/td><\/tr>\n",
       "\t<tr><td>LGA<\/td><td>ATL<\/td><td>762<\/td><\/tr>\n",
       "\t<tr><td>LGA<\/td><td>DTW<\/td><td>502<\/td><\/tr>\n",
       "\t<tr><td>JFK<\/td><td>ATL<\/td><td>760<\/td><\/tr>\n",
       "\t<tr><td>EWR<\/td><td>ORD<\/td><td>719<\/td><\/tr>\n",
       "\t<tr><td>EWR<\/td><td>ATL<\/td><td>746<\/td><\/tr>\n",
       "\t<tr><td>LGA<\/td><td>ORD<\/td><td>733<\/td><\/tr>\n",
       "\t<tr><td>LGA<\/td><td>BWI<\/td><td>185<\/td><\/tr>\n",
       "\t<tr><td>EWR<\/td><td>CLT<\/td><td>529<\/td><\/tr>\n",
       "\t<tr><td>EWR<\/td><td>IAD<\/td><td>212<\/td><\/tr>\n",
       "\t<tr><td>LGA<\/td><td>MCO<\/td><td>950<\/td><\/tr>\n",
       "\t<tr><td>JFK<\/td><td>BOS<\/td><td>187<\/td><\/tr>\n",
       "\t<tr><td>EWR<\/td><td>CLT<\/td><td>529<\/td><\/tr>\n",
       "\t<tr><td>JFK<\/td><td>BUF<\/td><td>301<\/td><\/tr>\n",
       "\t<tr><td>LGA<\/td><td>ORD<\/td><td>733<\/td><\/tr>\n",
       "\t<tr><td>JFK<\/td><td>MCO<\/td><td>944<\/td><\/tr>\n",
       "\t<tr><td>EWR<\/td><td>TPA<\/td><td>997<\/td><\/tr>\n",
       "\t<tr><td>LGA<\/td><td>ATL<\/td><td>762<\/td><\/tr>\n",
       "\t<tr><td>LGA<\/td><td>DTW<\/td><td>502<\/td><\/tr>\n",
       "\t<tr><td>LGA<\/td><td>ORD<\/td><td>733<\/td><\/tr>\n",
       "\t<tr><td>EWR<\/td><td>ORD<\/td><td>719<\/td><\/tr>\n",
       "\t<tr><td>LGA<\/td><td>MKE<\/td><td>738<\/td><\/tr>\n",
       "\t<tr><td>JFK<\/td><td>MCO<\/td><td>944<\/td><\/tr>\n",
       "\t<tr><td>JFK<\/td><td>ROC<\/td><td>264<\/td><\/tr>\n",
       "\t<tr><td>EWR<\/td><td>MCO<\/td><td>937<\/td><\/tr>\n",
       "\t<tr><td>⋮<\/td><td>⋮<\/td><td>⋮<\/td><\/tr>\n",
       "\t<tr><td>EWR<\/td><td>JAX<\/td><td>820<\/td><\/tr>\n",
       "\t<tr><td>LGA<\/td><td>MDW<\/td><td>725<\/td><\/tr>\n",
       "\t<tr><td>LGA<\/td><td>DTW<\/td><td>502<\/td><\/tr>\n",
       "\t<tr><td>EWR<\/td><td>SDF<\/td><td>642<\/td><\/tr>\n",
       "\t<tr><td>JFK<\/td><td>JAX<\/td><td>828<\/td><\/tr>\n",
       "\t<tr><td>EWR<\/td><td>DCA<\/td><td>199<\/td><\/tr>\n",
       "\t<tr><td>LGA<\/td><td>CHO<\/td><td>305<\/td><\/tr>\n",
       "\t<tr><td>EWR<\/td><td>CLT<\/td><td>529<\/td><\/tr>\n",
       "\t<tr><td>LGA<\/td><td>RIC<\/td><td>292<\/td><\/tr>\n",
       "\t<tr><td>JFK<\/td><td>DCA<\/td><td>213<\/td><\/tr>\n",
       "\t<tr><td>EWR<\/td><td>PWM<\/td><td>284<\/td><\/tr>\n",
       "\t<tr><td>EWR<\/td><td>BOS<\/td><td>200<\/td><\/tr>\n",
       "\t<tr><td>EWR<\/td><td>MHT<\/td><td>209<\/td><\/tr>\n",
       "\t<tr><td>JFK<\/td><td>BUF<\/td><td>301<\/td><\/tr>\n",
       "\t<tr><td>LGA<\/td><td>BGR<\/td><td>378<\/td><\/tr>\n",
       "\t<tr><td>LGA<\/td><td>BNA<\/td><td>764<\/td><\/tr>\n",
       "\t<tr><td>EWR<\/td><td>STL<\/td><td>872<\/td><\/tr>\n",
       "\t<tr><td>JFK<\/td><td>PWM<\/td><td>273<\/td><\/tr>\n",
       "\t<tr><td>JFK<\/td><td>MCO<\/td><td>944<\/td><\/tr>\n",
       "\t<tr><td>JFK<\/td><td>BTV<\/td><td>266<\/td><\/tr>\n",
       "\t<tr><td>JFK<\/td><td>SYR<\/td><td>209<\/td><\/tr>\n",
       "\t<tr><td>JFK<\/td><td>BUF<\/td><td>301<\/td><\/tr>\n",
       "\t<tr><td>JFK<\/td><td>ROC<\/td><td>264<\/td><\/tr>\n",
       "\t<tr><td>JFK<\/td><td>BOS<\/td><td>187<\/td><\/tr>\n",
       "\t<tr><td>LGA<\/td><td>BNA<\/td><td>764<\/td><\/tr>\n",
       "\t<tr><td>JFK<\/td><td>DCA<\/td><td>213<\/td><\/tr>\n",
       "\t<tr><td>LGA<\/td><td>SYR<\/td><td>198<\/td><\/tr>\n",
       "\t<tr><td>LGA<\/td><td>BNA<\/td><td>764<\/td><\/tr>\n",
       "\t<tr><td>LGA<\/td><td>CLE<\/td><td>419<\/td><\/tr>\n",
       "\t<tr><td>LGA<\/td><td>RDU<\/td><td>431<\/td><\/tr>\n",
       "<\/tbody>\n",
       "<\/table>\n"
      ]
     },
     "metadata":{
      
     },
     "output_type":"display_data"
    }
   ],
   "metadata":{
    "datalore":{
     "node_id":"3eJlWijIahnSnwxXdV199I",
     "type":"CODE",
     "hide_input_from_viewers":false,
     "hide_output_from_viewers":false
    }
   }
  }
 ],
 "metadata":{
  "kernelspec":{
   "display_name":"R",
   "language":"r",
   "name":"ir"
  },
  "datalore":{
   "version":1,
   "computation_mode":"JUPYTER",
   "package_manager":"conda",
   "base_environment":"minimal",
   "packages":[
    
   ]
  }
 },
 "nbformat":4,
 "nbformat_minor":4
}